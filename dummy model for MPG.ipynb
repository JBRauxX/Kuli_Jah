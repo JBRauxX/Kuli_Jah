{
 "cells": [
  {
   "cell_type": "code",
   "execution_count": 1,
   "metadata": {},
   "outputs": [],
   "source": [
    "import pandas as pd\n",
    "import numpy as np\n",
    "from sklearn import pipeline,preprocessing,metrics,model_selection,ensemble\n",
    "from sklearn_pandas import DataFrameMapper"
   ]
  },
  {
   "cell_type": "code",
   "execution_count": 2,
   "metadata": {},
   "outputs": [],
   "source": [
    "data=pd.read_csv('mpg_data_example.csv')"
   ]
  },
  {
   "cell_type": "code",
   "execution_count": 3,
   "metadata": {},
   "outputs": [
    {
     "data": {
      "text/html": [
       "<div>\n",
       "<style scoped>\n",
       "    .dataframe tbody tr th:only-of-type {\n",
       "        vertical-align: middle;\n",
       "    }\n",
       "\n",
       "    .dataframe tbody tr th {\n",
       "        vertical-align: top;\n",
       "    }\n",
       "\n",
       "    .dataframe thead th {\n",
       "        text-align: right;\n",
       "    }\n",
       "</style>\n",
       "<table border=\"1\" class=\"dataframe\">\n",
       "  <thead>\n",
       "    <tr style=\"text-align: right;\">\n",
       "      <th></th>\n",
       "      <th>mpg</th>\n",
       "      <th>cylinders</th>\n",
       "      <th>displacement</th>\n",
       "      <th>horsepower</th>\n",
       "      <th>weight</th>\n",
       "      <th>acceleration</th>\n",
       "      <th>modelyear</th>\n",
       "      <th>origin</th>\n",
       "      <th>carname</th>\n",
       "    </tr>\n",
       "  </thead>\n",
       "  <tbody>\n",
       "    <tr>\n",
       "      <th>0</th>\n",
       "      <td>18.0</td>\n",
       "      <td>8</td>\n",
       "      <td>307.0</td>\n",
       "      <td>130.0</td>\n",
       "      <td>3504</td>\n",
       "      <td>12.0</td>\n",
       "      <td>70</td>\n",
       "      <td>1</td>\n",
       "      <td>chevrolet chevelle malibu</td>\n",
       "    </tr>\n",
       "    <tr>\n",
       "      <th>1</th>\n",
       "      <td>15.0</td>\n",
       "      <td>8</td>\n",
       "      <td>350.0</td>\n",
       "      <td>165.0</td>\n",
       "      <td>3693</td>\n",
       "      <td>11.5</td>\n",
       "      <td>70</td>\n",
       "      <td>1</td>\n",
       "      <td>buick skylark 320</td>\n",
       "    </tr>\n",
       "    <tr>\n",
       "      <th>2</th>\n",
       "      <td>18.0</td>\n",
       "      <td>8</td>\n",
       "      <td>318.0</td>\n",
       "      <td>150.0</td>\n",
       "      <td>3436</td>\n",
       "      <td>11.0</td>\n",
       "      <td>70</td>\n",
       "      <td>1</td>\n",
       "      <td>plymouth satellite</td>\n",
       "    </tr>\n",
       "    <tr>\n",
       "      <th>3</th>\n",
       "      <td>16.0</td>\n",
       "      <td>8</td>\n",
       "      <td>304.0</td>\n",
       "      <td>150.0</td>\n",
       "      <td>3433</td>\n",
       "      <td>12.0</td>\n",
       "      <td>70</td>\n",
       "      <td>1</td>\n",
       "      <td>amc rebel sst</td>\n",
       "    </tr>\n",
       "    <tr>\n",
       "      <th>4</th>\n",
       "      <td>17.0</td>\n",
       "      <td>8</td>\n",
       "      <td>302.0</td>\n",
       "      <td>140.0</td>\n",
       "      <td>3449</td>\n",
       "      <td>10.5</td>\n",
       "      <td>70</td>\n",
       "      <td>1</td>\n",
       "      <td>ford torino</td>\n",
       "    </tr>\n",
       "  </tbody>\n",
       "</table>\n",
       "</div>"
      ],
      "text/plain": [
       "    mpg  cylinders  displacement  horsepower  weight  acceleration  modelyear  \\\n",
       "0  18.0          8         307.0       130.0    3504          12.0         70   \n",
       "1  15.0          8         350.0       165.0    3693          11.5         70   \n",
       "2  18.0          8         318.0       150.0    3436          11.0         70   \n",
       "3  16.0          8         304.0       150.0    3433          12.0         70   \n",
       "4  17.0          8         302.0       140.0    3449          10.5         70   \n",
       "\n",
       "   origin                    carname  \n",
       "0       1  chevrolet chevelle malibu  \n",
       "1       1          buick skylark 320  \n",
       "2       1         plymouth satellite  \n",
       "3       1              amc rebel sst  \n",
       "4       1                ford torino  "
      ]
     },
     "execution_count": 3,
     "metadata": {},
     "output_type": "execute_result"
    }
   ],
   "source": [
    "data.head()"
   ]
  },
  {
   "cell_type": "code",
   "execution_count": 4,
   "metadata": {},
   "outputs": [
    {
     "data": {
      "text/plain": [
       "mpg             0\n",
       "cylinders       0\n",
       "displacement    0\n",
       "horsepower      6\n",
       "weight          0\n",
       "acceleration    0\n",
       "modelyear       0\n",
       "origin          0\n",
       "carname         0\n",
       "dtype: int64"
      ]
     },
     "execution_count": 4,
     "metadata": {},
     "output_type": "execute_result"
    }
   ],
   "source": [
    "data.isnull().sum()"
   ]
  },
  {
   "cell_type": "code",
   "execution_count": 5,
   "metadata": {},
   "outputs": [],
   "source": [
    "from sklearn.impute import SimpleImputer\n",
    "\n",
    "mapper = DataFrameMapper([\n",
    "                        (['cylinders','displacement','weight','acceleration','modelyear'], preprocessing.StandardScaler()),\n",
    "                        (['horsepower'],SimpleImputer()),\n",
    "                        (['origin'], preprocessing.OneHotEncoder())\n",
    "                        ])"
   ]
  },
  {
   "cell_type": "code",
   "execution_count": null,
   "metadata": {},
   "outputs": [],
   "source": [
    "columns = 14\n",
    "test = 1/np.sqrt(columns)\n",
    "train = 1 - test\n",
    "print(test)\n",
    "print(train)"
   ]
  },
  {
   "cell_type": "code",
   "execution_count": 6,
   "metadata": {},
   "outputs": [],
   "source": [
    "pipeline_obj = pipeline.Pipeline([\n",
    "    ('mapper',mapper),\n",
    "    (\"model\", ensemble.RandomForestRegressor())\n",
    "])"
   ]
  },
  {
   "cell_type": "code",
   "execution_count": 7,
   "metadata": {},
   "outputs": [
    {
     "data": {
      "text/plain": [
       "Index(['mpg', 'cylinders', 'displacement', 'horsepower', 'weight',\n",
       "       'acceleration', 'modelyear', 'origin', 'carname'],\n",
       "      dtype='object')"
      ]
     },
     "execution_count": 7,
     "metadata": {},
     "output_type": "execute_result"
    }
   ],
   "source": [
    "data.columns"
   ]
  },
  {
   "cell_type": "code",
   "execution_count": 8,
   "metadata": {},
   "outputs": [],
   "source": [
    "X=['cylinders', 'displacement', 'horsepower', 'weight',\n",
    "       'acceleration', 'modelyear', 'origin']\n",
    "Y=['mpg']"
   ]
  },
  {
   "cell_type": "code",
   "execution_count": 9,
   "metadata": {},
   "outputs": [
    {
     "name": "stderr",
     "output_type": "stream",
     "text": [
      "/home/surename/Documents/jango/ipynb/.env/lib/python3.7/site-packages/sklearn/pipeline.py:335: DataConversionWarning: A column-vector y was passed when a 1d array was expected. Please change the shape of y to (n_samples,), for example using ravel().\n",
      "  self._final_estimator.fit(Xt, y, **fit_params_last_step)\n"
     ]
    },
    {
     "data": {
      "text/plain": [
       "Pipeline(steps=[('mapper',\n",
       "                 DataFrameMapper(features=[(['cylinders', 'displacement',\n",
       "                                             'weight', 'acceleration',\n",
       "                                             'modelyear'],\n",
       "                                            StandardScaler()),\n",
       "                                           (['horsepower'], SimpleImputer()),\n",
       "                                           (['origin'], OneHotEncoder())])),\n",
       "                ('model', RandomForestRegressor())])"
      ]
     },
     "execution_count": 9,
     "metadata": {},
     "output_type": "execute_result"
    }
   ],
   "source": [
    "pipeline_obj.fit(data[X],data[Y])"
   ]
  },
  {
   "cell_type": "code",
   "execution_count": 10,
   "metadata": {},
   "outputs": [
    {
     "data": {
      "text/plain": [
       "array([17.233, 14.92 , 17.02 , 16.27 , 17.052, 14.53 , 13.95 , 14.13 ,\n",
       "       13.63 , 14.69 , 14.9  , 14.46 , 15.12 , 14.622, 23.863, 21.567,\n",
       "       19.17 , 20.915, 26.96 , 26.48 , 24.34 , 24.479, 24.65 , 25.194,\n",
       "       20.945, 10.49 , 10.91 , 11.665,  9.81 , 27.03 , 26.585, 25.036,\n",
       "       25.86 , 19.421, 16.727, 17.501, 18.731, 18.196, 13.935, 13.73 ,\n",
       "       14.13 , 14.33 , 12.13 , 12.83 , 12.66 , 18.296, 22.135, 18.741,\n",
       "       18.3  , 23.682, 26.902, 29.338, 28.99 , 31.37 , 33.65 , 27.605,\n",
       "       26.93 , 24.548, 25.985, 23.505, 20.535, 22.17 , 13.45 , 13.76 ,\n",
       "       14.615, 14.13 , 15.87 , 11.9  , 12.85 , 12.565, 13.075, 20.76 ,\n",
       "       14.99 , 13.77 , 13.405, 14.07 , 19.068, 22.6  , 20.97 , 26.205,\n",
       "       22.641, 26.332, 22.958, 27.49 , 26.665, 13.395, 14.46 , 13.395,\n",
       "       14.12 , 14.71 , 12.06 , 13.32 , 13.34 , 14.285, 12.57 , 12.13 ,\n",
       "       13.385, 18.372, 16.455, 18.23 , 18.525, 22.167, 26.285, 11.51 ,\n",
       "       12.13 , 12.77 , 12.38 , 18.34 , 21.97 , 21.45 , 22.94 , 21.245,\n",
       "       20.06 , 21.072, 26.109, 14.385, 15.02 , 28.375, 24.66 , 21.565,\n",
       "       19.688, 15.402, 22.78 , 20.381, 12.445, 20.118, 20.33 , 19.232,\n",
       "       16.06 , 31.03 , 25.33 , 31.09 , 24.529, 16.175, 16.075, 17.837,\n",
       "       15.27 , 13.29 , 13.97 , 13.53 , 14.235, 27.5  , 27.485, 26.543,\n",
       "       31.677, 31.745, 27.639, 25.95 , 25.817, 23.884, 25.715, 29.89 ,\n",
       "       19.133, 17.785, 15.578, 16.285, 15.165, 14.83 , 15.31 , 14.375,\n",
       "       17.056, 16.09 , 15.62 , 17.669, 20.476, 19.424, 14.97 , 28.37 ,\n",
       "       23.395, 19.669, 22.973, 24.453, 25.664, 23.978, 18.725, 28.784,\n",
       "       18.812, 23.447, 22.342, 21.746, 23.984, 32.436, 26.788, 25.413,\n",
       "       24.791, 25.948, 27.455, 16.75 , 15.82 , 15.832, 14.845, 21.45 ,\n",
       "       20.696, 22.466, 21.754, 29.346, 25.45 , 29.049, 32.426, 19.273,\n",
       "       18.322, 18.005, 18.318, 29.19 , 31.945, 28.03 , 25.963, 20.366,\n",
       "       13.729, 20.565, 19.914, 16.699, 15.555, 13.625, 13.845, 13.492,\n",
       "       31.379, 29.578, 33.403, 25.692, 33.225, 16.769, 17.03 , 15.712,\n",
       "       15.509, 17.763, 20.323, 19.028, 18.297, 15.755, 15.575, 15.698,\n",
       "       15.855, 29.38 , 24.588, 26.772, 24.963, 30.809, 32.39 , 30.896,\n",
       "       29.893, 21.679, 22.784, 22.212, 40.   , 35.463, 34.922, 37.22 ,\n",
       "       35.514, 19.615, 19.006, 19.49 , 19.022, 20.253, 20.459, 24.927,\n",
       "       20.128, 19.611, 20.398, 20.713, 18.666, 18.731, 18.861, 18.072,\n",
       "       18.352, 17.103, 30.518, 25.59 , 26.834, 30.054, 22.891, 23.163,\n",
       "       23.251, 24.169, 21.122, 17.534, 21.845, 16.808, 31.727, 30.473,\n",
       "       21.353, 21.118, 23.537, 20.265, 20.579, 17.39 , 18.04 , 17.312,\n",
       "       17.82 , 16.611, 16.15 , 20.281, 17.744, 34.249, 34.172, 35.594,\n",
       "       27.665, 25.73 , 21.029, 27.726, 23.061, 34.986, 34.426, 33.328,\n",
       "       37.13 , 27.688, 27.67 , 26.137, 30.705, 39.018, 37.214, 33.398,\n",
       "       36.879, 27.937, 25.645, 24.862, 19.98 , 34.619, 29.959, 31.552,\n",
       "       34.667, 32.678, 43.034, 26.662, 40.861, 43.124, 41.333, 33.555,\n",
       "       29.966, 41.577, 38.128, 34.924, 32.676, 28.864, 27.939, 33.733,\n",
       "       24.036, 32.575, 28.817, 27.137, 26.614, 24.164, 31.265, 37.91 ,\n",
       "       37.757, 35.497, 34.009, 36.318, 36.918, 34.031, 34.864, 34.505,\n",
       "       32.097, 33.659, 33.75 , 34.05 , 32.647, 32.226, 31.458, 27.867,\n",
       "       27.755, 26.256, 25.869, 21.667, 24.087, 21.002, 19.569, 28.298,\n",
       "       27.686, 32.805, 30.419, 29.083, 27.053, 24.5  , 23.694, 35.67 ,\n",
       "       36.37 , 32.816, 37.211, 35.526, 35.92 , 35.413, 33.816, 36.445,\n",
       "       33.478, 36.529, 25.77 , 31.543, 27.142, 24.216, 30.82 , 34.41 ,\n",
       "       26.048, 26.838, 41.872, 32.293, 28.45 , 29.896])"
      ]
     },
     "execution_count": 10,
     "metadata": {},
     "output_type": "execute_result"
    }
   ],
   "source": [
    "pipeline_obj.predict(data[X])"
   ]
  },
  {
   "cell_type": "code",
   "execution_count": null,
   "metadata": {},
   "outputs": [],
   "source": [
    "from sklearn.model_selection import train_test_split\n",
    "\n",
    "X_train, X_test, y_train, y_test = train_test_split(data[X], data[Y], test_size= 0.3)"
   ]
  },
  {
   "cell_type": "code",
   "execution_count": null,
   "metadata": {},
   "outputs": [],
   "source": [
    "pipeline_obj.fit(data[X],data[Y])"
   ]
  },
  {
   "cell_type": "code",
   "execution_count": null,
   "metadata": {},
   "outputs": [],
   "source": []
  },
  {
   "cell_type": "code",
   "execution_count": 24,
   "metadata": {},
   "outputs": [],
   "source": [
    "from sklearn.externals import joblib"
   ]
  },
  {
   "cell_type": "code",
   "execution_count": null,
   "metadata": {},
   "outputs": [],
   "source": [
    "joblib.dump(pipeline_obj,'RFModelforMPG.pkl')"
   ]
  },
  {
   "cell_type": "code",
   "execution_count": null,
   "metadata": {},
   "outputs": [],
   "source": [
    "modelReload=joblib.load('RFModelforMPG.pkl')"
   ]
  },
  {
   "cell_type": "code",
   "execution_count": null,
   "metadata": {},
   "outputs": [],
   "source": [
    "modelReload.predict(data[X])"
   ]
  },
  {
   "cell_type": "code",
   "execution_count": null,
   "metadata": {},
   "outputs": [],
   "source": [
    "temp={}\n",
    "temp['cylinders']=1\n",
    "temp['displacement']=2\n",
    "temp['horsepower']=3\n",
    "temp['weight']=4\n",
    "temp['acceleration']=5\n",
    "temp['model year']=6\n",
    "temp['origin']=1"
   ]
  },
  {
   "cell_type": "code",
   "execution_count": null,
   "metadata": {},
   "outputs": [],
   "source": [
    "testDtaa=pd.DataFrame({'x':temp}).transpose()"
   ]
  },
  {
   "cell_type": "code",
   "execution_count": null,
   "metadata": {},
   "outputs": [],
   "source": [
    "testDtaa"
   ]
  },
  {
   "cell_type": "code",
   "execution_count": null,
   "metadata": {},
   "outputs": [],
   "source": [
    "modelReload.predict(testDtaa)[0]"
   ]
  },
  {
   "cell_type": "code",
   "execution_count": null,
   "metadata": {},
   "outputs": [],
   "source": []
  }
 ],
 "metadata": {
  "kernelspec": {
   "display_name": ".env",
   "language": "python",
   "name": ".env"
  },
  "language_info": {
   "codemirror_mode": {
    "name": "ipython",
    "version": 3
   },
   "file_extension": ".py",
   "mimetype": "text/x-python",
   "name": "python",
   "nbconvert_exporter": "python",
   "pygments_lexer": "ipython3",
   "version": "3.7.5"
  }
 },
 "nbformat": 4,
 "nbformat_minor": 2
}
